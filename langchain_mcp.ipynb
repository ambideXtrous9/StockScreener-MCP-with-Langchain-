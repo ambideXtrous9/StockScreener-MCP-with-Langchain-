{
 "cells": [
  {
   "cell_type": "code",
   "execution_count": 1,
   "id": "e6615da7",
   "metadata": {},
   "outputs": [],
   "source": [
    "# Create server parameters for stdio connection\n",
    "from mcp import ClientSession, StdioServerParameters\n",
    "from mcp.client.stdio import stdio_client\n",
    "\n",
    "from langchain_mcp_adapters.tools import load_mcp_tools\n",
    "from langgraph.prebuilt import create_react_agent"
   ]
  },
  {
   "cell_type": "code",
   "execution_count": 2,
   "id": "8735009c",
   "metadata": {},
   "outputs": [],
   "source": [
    "from langchain_ollama import ChatOllama"
   ]
  },
  {
   "cell_type": "code",
   "execution_count": 3,
   "id": "c6b908c2",
   "metadata": {},
   "outputs": [],
   "source": [
    "model = ChatOllama(model=\"qwen3:4b\")  # Use a model available via Ollama"
   ]
  },
  {
   "cell_type": "code",
   "execution_count": 4,
   "id": "79ab8c06",
   "metadata": {},
   "outputs": [],
   "source": [
    "server_params = StdioServerParameters(\n",
    "    command=\"python\",\n",
    "    # Make sure to update to the full absolute path to your math_server.py file\n",
    "    args=[\"StockMcp.py\"],\n",
    ")"
   ]
  },
  {
   "cell_type": "code",
   "execution_count": 5,
   "id": "954a1a88",
   "metadata": {},
   "outputs": [],
   "source": [
    "async with stdio_client(server_params) as (read, write):\n",
    "    async with ClientSession(read, write) as session:\n",
    "        # Initialize the connection\n",
    "        await session.initialize()\n",
    "\n",
    "        # Get tools\n",
    "        tools = await load_mcp_tools(session)\n",
    "\n",
    "        # Create and run the agent\n",
    "        agent = create_react_agent(model, tools)\n",
    "        query = {\"messages\": \"Give me the company details of CREDITACC.NS ?\"}\n",
    "        response = await agent.ainvoke(query)"
   ]
  },
  {
   "cell_type": "code",
   "execution_count": 6,
   "id": "59faeddc",
   "metadata": {},
   "outputs": [
    {
     "name": "stdout",
     "output_type": "stream",
     "text": [
      "================================\u001b[1m Human Message \u001b[0m=================================\n",
      "\n",
      "Give me the company details of CREDITACC.NS ?\n",
      "==================================\u001b[1m Ai Message \u001b[0m==================================\n",
      "Tool Calls:\n",
      "  company_details (c37a07f3-be24-4099-b19a-aaa48f4e28c1)\n",
      " Call ID: c37a07f3-be24-4099-b19a-aaa48f4e28c1\n",
      "  Args:\n",
      "    stock_ticker: CREDITACC.NS\n",
      "=================================\u001b[1m Tool Message \u001b[0m=================================\n",
      "Name: company_details\n",
      "\n",
      "{\n",
      "  \"Company Name\": \"CreditAccess Grameen Ltd\",\n",
      "  \"Current Price\": \"₹ 1,117\",\n",
      "  \"Market Cap\": \"17,847\",\n",
      "  \"About\": \"CreditAccess Grameen Limited is registered as a non-deposit accepting NBFC - Microfinance Institution with the RBI. It is engaged in providing microfinance services to women who are enrolled as members and organized as Joint Liability Groups. It also uses its distribution channel to provide certain other financial products and services to the members. [1]\",\n",
      "  \"PE\": \"33.6\",\n",
      "  \"ROE\": \"7.86\",\n",
      "  \"ROCE\": \"9.52\"\n",
      "}\n",
      "==================================\u001b[1m Ai Message \u001b[0m==================================\n",
      "\n",
      "<think>\n",
      "Okay, the user asked for the company details of CREDITACC.NS, so I called the company_details function with that ticker. The response came back with all the data. Now I need to present this information in a clear and concise way. Let me check the data first.\n",
      "\n",
      "The company name is CreditAccess Grameen Ltd. The current price is ₹1,117, market cap ₹17,847. The about section mentions it's an NBFC engaged in microfinance, serving women through Joint Liability Groups and other financial products. The PE ratio is 33.6, ROE 7.86, ROCE 9.52.\n",
      "\n",
      "I should structure this so it's easy to read. Maybe start with the company name, then key metrics like price, market cap, PE, ROE, ROCE. Then the about section. Make sure to mention that it's a non-deposit accepting NBFC and their main activities. Also, note the ROE and ROCE values, which are important for investors. Avoid jargon but keep it informative. Double-check the numbers to ensure they're correct as per the tool response. Alright, that should cover the user's query effectively.\n",
      "</think>\n",
      "\n",
      "Here are the details for **CREDITACC.NS (CreditAccess Grameen Ltd)**:\n",
      "\n",
      "### **Key Metrics**\n",
      "- **Current Price**: ₹ 1,117  \n",
      "- **Market Cap**: ₹ 17,847  \n",
      "- **PE Ratio**: 33.6  \n",
      "- **ROE (Return on Equity)**: 7.86%  \n",
      "- **ROCE (Return on Capital Employed)**: 9.52%  \n",
      "\n",
      "### **Company Overview**\n",
      "CreditAccess Grameen Ltd is a **non-deposit accepting NBFC - Microfinance Institution** registered with the RBI. It provides microfinance services to women through **Joint Liability Groups**, focusing on financial inclusion. The company also offers other financial products and services via its distribution network.  \n",
      "\n",
      "Let me know if you need further analysis!\n"
     ]
    }
   ],
   "source": [
    "for msg in response['messages']:\n",
    "    msg.pretty_print()"
   ]
  }
 ],
 "metadata": {
  "kernelspec": {
   "display_name": "base",
   "language": "python",
   "name": "python3"
  },
  "language_info": {
   "codemirror_mode": {
    "name": "ipython",
    "version": 3
   },
   "file_extension": ".py",
   "mimetype": "text/x-python",
   "name": "python",
   "nbconvert_exporter": "python",
   "pygments_lexer": "ipython3",
   "version": "3.12.9"
  }
 },
 "nbformat": 4,
 "nbformat_minor": 5
}
